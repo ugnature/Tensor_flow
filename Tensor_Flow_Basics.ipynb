{
  "nbformat": 4,
  "nbformat_minor": 0,
  "metadata": {
    "colab": {
      "provenance": [],
      "authorship_tag": "ABX9TyNypLaRV/rCGp1A1zE6MVPv",
      "include_colab_link": true
    },
    "kernelspec": {
      "name": "python3",
      "display_name": "Python 3"
    },
    "language_info": {
      "name": "python"
    }
  },
  "cells": [
    {
      "cell_type": "markdown",
      "metadata": {
        "id": "view-in-github",
        "colab_type": "text"
      },
      "source": [
        "<a href=\"https://colab.research.google.com/github/ugnature/Tensor_flow/blob/main/Tensor_Flow_Basics.ipynb\" target=\"_parent\"><img src=\"https://colab.research.google.com/assets/colab-badge.svg\" alt=\"Open In Colab\"/></a>"
      ]
    },
    {
      "cell_type": "markdown",
      "source": [
        "# Tensorflow and Variables"
      ],
      "metadata": {
        "id": "I85zmyz-2R59"
      }
    },
    {
      "cell_type": "markdown",
      "source": [
        "## Initialization and Casting"
      ],
      "metadata": {
        "id": "rr2QTql0lnn_"
      }
    },
    {
      "cell_type": "markdown",
      "source": [
        "### Tensors are Multi Dimentional Arrays\n",
        "\n",
        "* An array is an *ordered arrangement of numbers*"
      ],
      "metadata": {
        "id": "Jm4Lqioa2WNQ"
      }
    },
    {
      "cell_type": "code",
      "source": [
        "import tensorflow as tf"
      ],
      "metadata": {
        "id": "hPAZwWcL2WJX"
      },
      "execution_count": 11,
      "outputs": []
    },
    {
      "cell_type": "code",
      "source": [
        "# Create our first zero dimenstion tensor which contain only one element in a tensor\n",
        "tensor_zero_d = tf.constant(2)\n",
        "print(tensor_zero_d)"
      ],
      "metadata": {
        "colab": {
          "base_uri": "https://localhost:8080/"
        },
        "id": "oCkmCzai2WG1",
        "outputId": "ca092b8e-99bb-4bdb-ba1d-7373f8cd30ab"
      },
      "execution_count": 12,
      "outputs": [
        {
          "output_type": "stream",
          "name": "stdout",
          "text": [
            "tf.Tensor(2, shape=(), dtype=int32)\n"
          ]
        }
      ]
    },
    {
      "cell_type": "code",
      "source": [
        "# Create our first one dimention tensor\n",
        "tensor_one_d = tf.constant([2, 0, -3, 9, 10, 123], dtype= tf.float32)\n",
        "print(tensor_one_d)\n",
        "# lets try to turn this into boolean\n",
        "tensor_bool_one_d = tf.cast(tensor_one_d, dtype=tf.bool)\n",
        "print(tensor_bool_one_d) # wherever the value will be zero, it will be converted as false"
      ],
      "metadata": {
        "colab": {
          "base_uri": "https://localhost:8080/"
        },
        "id": "MMtglo8j2WEO",
        "outputId": "e3c46391-d27d-46a3-a989-908ae2e3d796"
      },
      "execution_count": 39,
      "outputs": [
        {
          "output_type": "stream",
          "name": "stdout",
          "text": [
            "tf.Tensor([  2.   0.  -3.   9.  10. 123.], shape=(6,), dtype=float32)\n",
            "tf.Tensor([ True False  True  True  True  True], shape=(6,), dtype=bool)\n"
          ]
        }
      ]
    },
    {
      "cell_type": "code",
      "source": [
        "# Create our first two dimension tensor\n",
        "tensor_two_d = tf.constant([\n",
        "                            [1, 2, 0],\n",
        "                            [3, 5, -1],\n",
        "                            [1, 5, 6],\n",
        "                            [2, 3, 8]], dtype=tf.int64)\n",
        "print(tensor_two_d)"
      ],
      "metadata": {
        "colab": {
          "base_uri": "https://localhost:8080/"
        },
        "id": "aUVxuaeF2WCd",
        "outputId": "6da334b6-f570-44c9-9422-25e71a4fa9dd"
      },
      "execution_count": 32,
      "outputs": [
        {
          "output_type": "stream",
          "name": "stdout",
          "text": [
            "tf.Tensor(\n",
            "[[ 1  2  0]\n",
            " [ 3  5 -1]\n",
            " [ 1  5  6]\n",
            " [ 2  3  8]], shape=(4, 3), dtype=int64)\n"
          ]
        }
      ]
    },
    {
      "cell_type": "code",
      "source": [
        "# Create our first 3d tensor\n",
        "tensor_three_d = tf.constant(\n",
        "                            [[[1, 2, 0],\n",
        "                             [3, 5, -1]],\n",
        "\n",
        "                            [[10, 2, 0],\n",
        "                             [1, 0, 2]],\n",
        "\n",
        "                            [[5, 8, 0],\n",
        "                             [2, 7, 0]],\n",
        "\n",
        "                            [[2, 1, 9],\n",
        "                             [4, -3, 32]]]\n",
        ")\n",
        "print(tensor_three_d)\n",
        "print(\"------------------------\")\n",
        "print(f\"tensor shape: {tensor_three_d.shape}\")\n",
        "print(f\"tensor dimension: {tensor_three_d.ndim}d\")"
      ],
      "metadata": {
        "colab": {
          "base_uri": "https://localhost:8080/"
        },
        "id": "bAIIZSmnDPmo",
        "outputId": "8572d041-fa5e-4611-ffcb-5891e5d46213"
      },
      "execution_count": 26,
      "outputs": [
        {
          "output_type": "stream",
          "name": "stdout",
          "text": [
            "tf.Tensor(\n",
            "[[[ 1  2  0]\n",
            "  [ 3  5 -1]]\n",
            "\n",
            " [[10  2  0]\n",
            "  [ 1  0  2]]\n",
            "\n",
            " [[ 5  8  0]\n",
            "  [ 2  7  0]]\n",
            "\n",
            " [[ 2  1  9]\n",
            "  [ 4 -3 32]]], shape=(4, 2, 3), dtype=int32)\n",
            "------------------------\n",
            "tensor shape: (4, 2, 3)\n",
            "tensor dimension: 3d\n"
          ]
        }
      ]
    },
    {
      "cell_type": "code",
      "source": [
        "# Create our first four dimension tensor\n",
        "tensor_four_d = tf.constant(\n",
        "                            [[[[1, 2, 0],\n",
        "                             [3, 5, -1]],\n",
        "\n",
        "                             [[10, 2, 0],\n",
        "                             [1, 0, 2]],\n",
        "\n",
        "                             [[5, 8, 0],\n",
        "                             [2, 7, 0]],\n",
        "\n",
        "                             [[2, 1, 9],\n",
        "                             [4, -3, 32]]],\n",
        "                             \n",
        "                                           [[[4, 5, 4],\n",
        "                                             [3, 1, 1]],\n",
        "                             \n",
        "                                             [[0, 2, 5],\n",
        "                                              [0, 4, 3]],\n",
        "                             \n",
        "                                             [[3, 2, 4],\n",
        "                                              [5, 8 ,3]],\n",
        "                             \n",
        "                                             [[8, 2, 5],\n",
        "                                              [2, 3, 3]]],\n",
        "                                                          [[[0, 2, 4],\n",
        "                                                            [5, 3, 1]],\n",
        "                                                           \n",
        "                                                           [[0, 2, 0],\n",
        "                                                            [-1, 10, 0]],\n",
        "                                                           \n",
        "                                                           [[0, 5, 1],\n",
        "                                                            [1, 7, 0]],\n",
        "                                                           \n",
        "                                                           [[3, 8, 7],\n",
        "                                                            [2, 3, 2]]]])\n",
        "print(tensor_four_d)\n",
        "print(\"------------------------\")\n",
        "print(f\"tensor shape: {tensor_four_d.shape}\")\n",
        "print(f\"tensor dimension: {tensor_four_d.ndim}d\")"
      ],
      "metadata": {
        "colab": {
          "base_uri": "https://localhost:8080/"
        },
        "id": "H1WIjhLODPi0",
        "outputId": "5aa546d1-141b-4b82-9c94-84dbb0d96d09"
      },
      "execution_count": 28,
      "outputs": [
        {
          "output_type": "stream",
          "name": "stdout",
          "text": [
            "tf.Tensor(\n",
            "[[[[ 1  2  0]\n",
            "   [ 3  5 -1]]\n",
            "\n",
            "  [[10  2  0]\n",
            "   [ 1  0  2]]\n",
            "\n",
            "  [[ 5  8  0]\n",
            "   [ 2  7  0]]\n",
            "\n",
            "  [[ 2  1  9]\n",
            "   [ 4 -3 32]]]\n",
            "\n",
            "\n",
            " [[[ 4  5  4]\n",
            "   [ 3  1  1]]\n",
            "\n",
            "  [[ 0  2  5]\n",
            "   [ 0  4  3]]\n",
            "\n",
            "  [[ 3  2  4]\n",
            "   [ 5  8  3]]\n",
            "\n",
            "  [[ 8  2  5]\n",
            "   [ 2  3  3]]]\n",
            "\n",
            "\n",
            " [[[ 0  2  4]\n",
            "   [ 5  3  1]]\n",
            "\n",
            "  [[ 0  2  0]\n",
            "   [-1 10  0]]\n",
            "\n",
            "  [[ 0  5  1]\n",
            "   [ 1  7  0]]\n",
            "\n",
            "  [[ 3  8  7]\n",
            "   [ 2  3  2]]]], shape=(3, 4, 2, 3), dtype=int32)\n",
            "------------------------\n",
            "tensor shape: (3, 4, 2, 3)\n",
            "tensor dimension: 4d\n"
          ]
        }
      ]
    },
    {
      "cell_type": "code",
      "source": [
        "# lets create our first boolean tensor\n",
        "tensor_bool = tf.constant([[True, False, True],\n",
        "                          [True, False, False]])\n",
        "print(tensor_bool)\n",
        "# lets try to turn this tensor into int\n",
        "tensor_int = tf.cast(tensor_bool, dtype=tf.int32)\n",
        "print(tensor_int) # true will be converted as 1 and false will be as 0"
      ],
      "metadata": {
        "colab": {
          "base_uri": "https://localhost:8080/"
        },
        "id": "QKqYEzI6DPf1",
        "outputId": "50fe9eee-a026-493c-e2cc-f702d3d612f1"
      },
      "execution_count": 43,
      "outputs": [
        {
          "output_type": "stream",
          "name": "stdout",
          "text": [
            "tf.Tensor(\n",
            "[[ True False  True]\n",
            " [ True False False]], shape=(2, 3), dtype=bool)\n",
            "tf.Tensor(\n",
            "[[1 0 1]\n",
            " [1 0 0]], shape=(2, 3), dtype=int32)\n"
          ]
        }
      ]
    },
    {
      "cell_type": "code",
      "source": [
        "# Lets create our first tensor of string\n",
        "tensor_string = tf.constant([[\"Vinay\", \"Abhay\", \"Shantanu\"],\n",
        "                            [\"Anjum\", \"Deevangi\", \"Tharak\"]])\n",
        "print(tensor_string)"
      ],
      "metadata": {
        "colab": {
          "base_uri": "https://localhost:8080/"
        },
        "id": "halExVR3DPdJ",
        "outputId": "5df9717f-ebd8-4ae7-a333-cc4fb21e0f12"
      },
      "execution_count": 44,
      "outputs": [
        {
          "output_type": "stream",
          "name": "stdout",
          "text": [
            "tf.Tensor(\n",
            "[[b'Vinay' b'Abhay' b'Shantanu']\n",
            " [b'Anjum' b'Deevangi' b'Tharak']], shape=(2, 3), dtype=string)\n"
          ]
        }
      ]
    },
    {
      "cell_type": "markdown",
      "source": [
        "### Let's learn how to convert NumPy array into Tensor"
      ],
      "metadata": {
        "id": "VBN4VSP2DPbJ"
      }
    },
    {
      "cell_type": "code",
      "source": [
        "# Lets convert NumPy array to Tensor\n",
        "import numpy as np\n",
        "np_array = np.array([1, 3, 4])\n",
        "print(np_array)"
      ],
      "metadata": {
        "colab": {
          "base_uri": "https://localhost:8080/"
        },
        "id": "UPLUew7FM-xU",
        "outputId": "6f715019-da71-44a2-9cff-0f5520f065cc"
      },
      "execution_count": 46,
      "outputs": [
        {
          "output_type": "stream",
          "name": "stdout",
          "text": [
            "[1 3 4]\n"
          ]
        }
      ]
    },
    {
      "cell_type": "code",
      "source": [
        "converted_tensor = tf.convert_to_tensor(np_array, dtype= tf.float32)\n",
        "print(converted_tensor)"
      ],
      "metadata": {
        "colab": {
          "base_uri": "https://localhost:8080/"
        },
        "id": "6CndEUayM-tn",
        "outputId": "cb09237d-ae5f-4d1f-f19d-002fc4768e55"
      },
      "execution_count": 49,
      "outputs": [
        {
          "output_type": "stream",
          "name": "stdout",
          "text": [
            "tf.Tensor([1. 3. 4.], shape=(3,), dtype=float32)\n"
          ]
        }
      ]
    },
    {
      "cell_type": "markdown",
      "source": [
        "### Identical Tensors\n",
        "**Identical Tensors**\n",
        "`tf.eye`"
      ],
      "metadata": {
        "id": "OxyeZM25Tbrq"
      }
    },
    {
      "cell_type": "code",
      "source": [
        "# create tensor automatically but they are going to identical\n",
        "# using batchshape in eye method we create identity matrix\n",
        "identity_matrix = tf.eye(\n",
        "                          num_rows= 5, \n",
        "                          num_columns= None, \n",
        "                          batch_shape=[2, 3], \n",
        "                          dtype= tf.int64,\n",
        "                          name=None)\n",
        "print(identity_matrix)"
      ],
      "metadata": {
        "colab": {
          "base_uri": "https://localhost:8080/"
        },
        "id": "ycioSkZCM-qx",
        "outputId": "38a76d35-7b48-4282-928c-dc9f951e22a5"
      },
      "execution_count": 79,
      "outputs": [
        {
          "output_type": "stream",
          "name": "stdout",
          "text": [
            "tf.Tensor(\n",
            "[[[[1 0 0 0 0]\n",
            "   [0 1 0 0 0]\n",
            "   [0 0 1 0 0]\n",
            "   [0 0 0 1 0]\n",
            "   [0 0 0 0 1]]\n",
            "\n",
            "  [[1 0 0 0 0]\n",
            "   [0 1 0 0 0]\n",
            "   [0 0 1 0 0]\n",
            "   [0 0 0 1 0]\n",
            "   [0 0 0 0 1]]\n",
            "\n",
            "  [[1 0 0 0 0]\n",
            "   [0 1 0 0 0]\n",
            "   [0 0 1 0 0]\n",
            "   [0 0 0 1 0]\n",
            "   [0 0 0 0 1]]]\n",
            "\n",
            "\n",
            " [[[1 0 0 0 0]\n",
            "   [0 1 0 0 0]\n",
            "   [0 0 1 0 0]\n",
            "   [0 0 0 1 0]\n",
            "   [0 0 0 0 1]]\n",
            "\n",
            "  [[1 0 0 0 0]\n",
            "   [0 1 0 0 0]\n",
            "   [0 0 1 0 0]\n",
            "   [0 0 0 1 0]\n",
            "   [0 0 0 0 1]]\n",
            "\n",
            "  [[1 0 0 0 0]\n",
            "   [0 1 0 0 0]\n",
            "   [0 0 1 0 0]\n",
            "   [0 0 0 1 0]\n",
            "   [0 0 0 0 1]]]], shape=(2, 3, 5, 5), dtype=int64)\n"
          ]
        }
      ]
    },
    {
      "cell_type": "markdown",
      "source": [
        "### Tensor filled with scalar value or in other word zero dimensions values\n",
        "**Scalar Value tensor** of any dimension:\n",
        "`tf.fill`"
      ],
      "metadata": {
        "id": "_GI-zq1lM-oY"
      }
    },
    {
      "cell_type": "code",
      "source": [
        "# scalar meaning zero dimension tensors\n",
        "tensor_scaler_fill = tf.fill(dims=[4, 3, 6], value=4)\n",
        "print(tensor_scaler_fill)"
      ],
      "metadata": {
        "colab": {
          "base_uri": "https://localhost:8080/"
        },
        "id": "by0czTsMM-li",
        "outputId": "b606a683-11bb-4691-b0fa-d5c4c2254ecd"
      },
      "execution_count": 86,
      "outputs": [
        {
          "output_type": "stream",
          "name": "stdout",
          "text": [
            "tf.Tensor(\n",
            "[[[4 4 4 4 4 4]\n",
            "  [4 4 4 4 4 4]\n",
            "  [4 4 4 4 4 4]]\n",
            "\n",
            " [[4 4 4 4 4 4]\n",
            "  [4 4 4 4 4 4]\n",
            "  [4 4 4 4 4 4]]\n",
            "\n",
            " [[4 4 4 4 4 4]\n",
            "  [4 4 4 4 4 4]\n",
            "  [4 4 4 4 4 4]]\n",
            "\n",
            " [[4 4 4 4 4 4]\n",
            "  [4 4 4 4 4 4]\n",
            "  [4 4 4 4 4 4]]], shape=(4, 3, 6), dtype=int32)\n"
          ]
        }
      ]
    },
    {
      "cell_type": "markdown",
      "source": [
        "### Creation of Tensor with all element are set to one\n",
        "**Tensor One** `tf.ones`"
      ],
      "metadata": {
        "id": "4W50BH5bM-jN"
      }
    },
    {
      "cell_type": "code",
      "source": [
        "tensor_one = tf.ones([2, 5, 5], dtype=tf.float16)\n",
        "print(tensor_one)"
      ],
      "metadata": {
        "colab": {
          "base_uri": "https://localhost:8080/"
        },
        "id": "MFk9X0fEM-hU",
        "outputId": "4acc5fbc-23bc-46cc-c047-aacba98d55e0"
      },
      "execution_count": 89,
      "outputs": [
        {
          "output_type": "stream",
          "name": "stdout",
          "text": [
            "tf.Tensor(\n",
            "[[[1. 1. 1. 1. 1.]\n",
            "  [1. 1. 1. 1. 1.]\n",
            "  [1. 1. 1. 1. 1.]\n",
            "  [1. 1. 1. 1. 1.]\n",
            "  [1. 1. 1. 1. 1.]]\n",
            "\n",
            " [[1. 1. 1. 1. 1.]\n",
            "  [1. 1. 1. 1. 1.]\n",
            "  [1. 1. 1. 1. 1.]\n",
            "  [1. 1. 1. 1. 1.]\n",
            "  [1. 1. 1. 1. 1.]]], shape=(2, 5, 5), dtype=float16)\n"
          ]
        }
      ]
    },
    {
      "cell_type": "markdown",
      "source": [
        "### Tensor Ones_like\n",
        "It's just imitate the shape of your tensor but the value will be given as one\n",
        "**Tensor ones_like**: `tf.ones_like`"
      ],
      "metadata": {
        "id": "vNu6jeU3XBL1"
      }
    },
    {
      "cell_type": "code",
      "source": [
        "tensor = tf.constant([[1, 3, 5],\n",
        "                      [2, 5, 6],\n",
        "                      [2, 55, 6]], dtype=tf.float32)\n",
        "# lets imitate the above tensor\n",
        "tensor_ones_like = tf.ones_like(tensor)\n",
        "print(tensor_ones_like)"
      ],
      "metadata": {
        "colab": {
          "base_uri": "https://localhost:8080/"
        },
        "id": "Tv1-VQ_oXBIx",
        "outputId": "64ec1adf-c4fb-4a78-be62-1b5f38c424b2"
      },
      "execution_count": 94,
      "outputs": [
        {
          "output_type": "stream",
          "name": "stdout",
          "text": [
            "tf.Tensor(\n",
            "[[1. 1. 1.]\n",
            " [1. 1. 1.]\n",
            " [1. 1. 1.]], shape=(3, 3), dtype=float32)\n"
          ]
        }
      ]
    },
    {
      "cell_type": "markdown",
      "source": [
        "### Creation of Tensor with all element are set to zero\n",
        "**Tensor Zero** `tf.zeros`"
      ],
      "metadata": {
        "id": "3wFHG9D3XBGq"
      }
    },
    {
      "cell_type": "code",
      "source": [
        "# Create a tensor with zero staler\n",
        "tensor_zero = tf.zeros([2, 5, 6], dtype= tf.int32)\n",
        "print(tensor_zero)"
      ],
      "metadata": {
        "colab": {
          "base_uri": "https://localhost:8080/"
        },
        "id": "i7aQjm5zXBDb",
        "outputId": "53988dee-3bba-4707-c68a-41a199e6208a"
      },
      "execution_count": 96,
      "outputs": [
        {
          "output_type": "stream",
          "name": "stdout",
          "text": [
            "tf.Tensor(\n",
            "[[[0 0 0 0 0 0]\n",
            "  [0 0 0 0 0 0]\n",
            "  [0 0 0 0 0 0]\n",
            "  [0 0 0 0 0 0]\n",
            "  [0 0 0 0 0 0]]\n",
            "\n",
            " [[0 0 0 0 0 0]\n",
            "  [0 0 0 0 0 0]\n",
            "  [0 0 0 0 0 0]\n",
            "  [0 0 0 0 0 0]\n",
            "  [0 0 0 0 0 0]]], shape=(2, 5, 6), dtype=int32)\n"
          ]
        }
      ]
    },
    {
      "cell_type": "markdown",
      "source": [
        "### Let's findout tha shape of the tensor"
      ],
      "metadata": {
        "id": "kcHnS4-iZlXq"
      }
    },
    {
      "cell_type": "code",
      "source": [
        "# lets find out the shape of the tensor\n",
        "tensor_shape = tf.shape(tensor_zero)\n",
        "print(tensor_shape)"
      ],
      "metadata": {
        "colab": {
          "base_uri": "https://localhost:8080/"
        },
        "id": "Emzeqq8sZlS1",
        "outputId": "f9024537-d388-400f-bb1d-607cda0dcf99"
      },
      "execution_count": 98,
      "outputs": [
        {
          "output_type": "stream",
          "name": "stdout",
          "text": [
            "tf.Tensor([2 5 6], shape=(3,), dtype=int32)\n"
          ]
        }
      ]
    },
    {
      "cell_type": "code",
      "source": [
        "# lets find out the rank also\n",
        "# rank stand for dimension stage\n",
        "tensor_rank = tf.rank(tensor_zero)\n",
        "print(tensor_rank)"
      ],
      "metadata": {
        "colab": {
          "base_uri": "https://localhost:8080/"
        },
        "id": "_kpP8NchZlP7",
        "outputId": "ad6d820b-e44a-428c-ca82-81b81efe71af"
      },
      "execution_count": 103,
      "outputs": [
        {
          "output_type": "stream",
          "name": "stdout",
          "text": [
            "tf.Tensor(3, shape=(), dtype=int32)\n"
          ]
        }
      ]
    },
    {
      "cell_type": "code",
      "source": [
        "# lets find out the size also of our four_d tensor (3, 4, 2, 3)\n",
        "# this will return zero d tensors in total\n",
        "tensor_size = tf.size(tensor_four_d, out_type=tf.float32)\n",
        "print(tensor_size)"
      ],
      "metadata": {
        "colab": {
          "base_uri": "https://localhost:8080/"
        },
        "id": "grKzRCypZlNr",
        "outputId": "f0a6725d-9e2f-44bc-b98b-7eb26da51dda"
      },
      "execution_count": 108,
      "outputs": [
        {
          "output_type": "stream",
          "name": "stdout",
          "text": [
            "tf.Tensor(72.0, shape=(), dtype=float32)\n"
          ]
        }
      ]
    },
    {
      "cell_type": "markdown",
      "source": [
        "### Lets create a random.normal Tensor\n",
        "Using: `tf.random.normal`"
      ],
      "metadata": {
        "id": "Z9FPsWUfZlLE"
      }
    },
    {
      "cell_type": "code",
      "source": [
        "# create first random tensor\n",
        "# tf.random.set_seed(108);\n",
        "my_random_tensor= tf.random.normal(\n",
        "    shape=[2, 4, 3],\n",
        "    mean=0.2,\n",
        "    stddev=1.0,\n",
        "    dtype=tf.dtypes.float32,\n",
        "    seed=None,\n",
        "    name=None\n",
        ")\n",
        "print(my_random_tensor)"
      ],
      "metadata": {
        "colab": {
          "base_uri": "https://localhost:8080/"
        },
        "id": "wB2oxKAfcpGU",
        "outputId": "b88df8c0-2682-46f3-e9e8-0d16c4490398"
      },
      "execution_count": 171,
      "outputs": [
        {
          "output_type": "stream",
          "name": "stdout",
          "text": [
            "tf.Tensor(\n",
            "[[[ 0.18908949  0.6130406  -0.9811397 ]\n",
            "  [-0.5617257  -0.282296   -0.65634495]\n",
            "  [ 0.7194519   0.5531581   0.6013858 ]\n",
            "  [-1.758456   -0.5455282  -0.62977475]]\n",
            "\n",
            " [[-0.3492217  -0.25235772 -0.110038  ]\n",
            "  [ 1.0042791  -0.7709881   0.680386  ]\n",
            "  [-0.25373942  0.13273308 -0.4869988 ]\n",
            "  [ 0.44678408  0.33951098  0.6623259 ]]], shape=(2, 4, 3), dtype=float32)\n"
          ]
        }
      ]
    },
    {
      "cell_type": "markdown",
      "source": [
        "### Lets create a random.uniform Tensor\n",
        "Using: `tf.random.uniform`"
      ],
      "metadata": {
        "id": "m8Io0nnMiR12"
      }
    },
    {
      "cell_type": "code",
      "source": [
        "# this tensor is without mean and deviation\n",
        "# it is totally abstract\n",
        "tf.random.set_seed(108)\n",
        "tensor_uniform = tf.random.uniform(\n",
        "    shape=[2, 4, 2, 3],\n",
        "    minval=1,\n",
        "    maxval=108,\n",
        "    dtype=tf.dtypes.int32,\n",
        "    seed=None,\n",
        "    name=None)\n",
        "print(tensor_uniform)"
      ],
      "metadata": {
        "colab": {
          "base_uri": "https://localhost:8080/"
        },
        "id": "6gq05eSkcpDD",
        "outputId": "eeb93adf-1242-458c-d27b-0ba59e0aa538"
      },
      "execution_count": 203,
      "outputs": [
        {
          "output_type": "stream",
          "name": "stdout",
          "text": [
            "tf.Tensor(\n",
            "[[[[ 80  79   3]\n",
            "   [  6  29  20]]\n",
            "\n",
            "  [[106  48  53]\n",
            "   [ 88  63  33]]\n",
            "\n",
            "  [[ 37  13  10]\n",
            "   [ 51   3  61]]\n",
            "\n",
            "  [[  3  57  63]\n",
            "   [ 43  42  52]]]\n",
            "\n",
            "\n",
            " [[[ 13  19  21]\n",
            "   [ 49  81 103]]\n",
            "\n",
            "  [[ 43  87   8]\n",
            "   [  9  18  94]]\n",
            "\n",
            "  [[ 69   4  99]\n",
            "   [ 46  93 102]]\n",
            "\n",
            "  [[101  17  24]\n",
            "   [ 27  77  87]]]], shape=(2, 4, 2, 3), dtype=int32)\n"
          ]
        }
      ]
    },
    {
      "cell_type": "markdown",
      "source": [
        "## Indexing"
      ],
      "metadata": {
        "id": "OoSJgfo3cpAS"
      }
    },
    {
      "cell_type": "code",
      "source": [],
      "metadata": {
        "id": "By6MEypnco9q"
      },
      "execution_count": null,
      "outputs": []
    }
  ]
}