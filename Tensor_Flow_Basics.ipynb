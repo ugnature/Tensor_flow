{
  "nbformat": 4,
  "nbformat_minor": 0,
  "metadata": {
    "colab": {
      "provenance": [],
      "authorship_tag": "ABX9TyPBr2JO1mtNR7kkTLSdyjMn",
      "include_colab_link": true
    },
    "kernelspec": {
      "name": "python3",
      "display_name": "Python 3"
    },
    "language_info": {
      "name": "python"
    }
  },
  "cells": [
    {
      "cell_type": "markdown",
      "metadata": {
        "id": "view-in-github",
        "colab_type": "text"
      },
      "source": [
        "<a href=\"https://colab.research.google.com/github/ugnature/Tensor_flow/blob/main/Tensor_Flow_Basics.ipynb\" target=\"_parent\"><img src=\"https://colab.research.google.com/assets/colab-badge.svg\" alt=\"Open In Colab\"/></a>"
      ]
    },
    {
      "cell_type": "markdown",
      "source": [
        "# Tensorflow and Variables"
      ],
      "metadata": {
        "id": "I85zmyz-2R59"
      }
    },
    {
      "cell_type": "markdown",
      "source": [
        "## Initialization and Casting"
      ],
      "metadata": {
        "id": "rr2QTql0lnn_"
      }
    },
    {
      "cell_type": "markdown",
      "source": [
        "### Tensors are Multi Dimentional Arrays\n",
        "\n",
        "* An array is an *ordered arrangement of numbers*"
      ],
      "metadata": {
        "id": "Jm4Lqioa2WNQ"
      }
    },
    {
      "cell_type": "code",
      "source": [
        "import tensorflow as tf"
      ],
      "metadata": {
        "id": "hPAZwWcL2WJX"
      },
      "execution_count": 18,
      "outputs": []
    },
    {
      "cell_type": "code",
      "source": [
        "# Create our first zero dimenstion tensor which contain only one element in a tensor\n",
        "tensor_zero_d = tf.constant(2)\n",
        "print(tensor_zero_d)"
      ],
      "metadata": {
        "colab": {
          "base_uri": "https://localhost:8080/"
        },
        "id": "oCkmCzai2WG1",
        "outputId": "88456949-a249-4bd5-9518-6be81fee8e45"
      },
      "execution_count": 19,
      "outputs": [
        {
          "output_type": "stream",
          "name": "stdout",
          "text": [
            "tf.Tensor(2, shape=(), dtype=int32)\n"
          ]
        }
      ]
    },
    {
      "cell_type": "code",
      "source": [
        "# Create our first one dimention tensor\n",
        "tensor_one_d = tf.constant([2, 0, -3, 9, 10, 123], dtype= tf.float32)\n",
        "print(tensor_one_d)\n",
        "# lets try to turn this into boolean\n",
        "tensor_bool_one_d = tf.cast(tensor_one_d, dtype=tf.bool)\n",
        "print(tensor_bool_one_d) # wherever the value will be zero, it will be converted as false"
      ],
      "metadata": {
        "colab": {
          "base_uri": "https://localhost:8080/"
        },
        "id": "MMtglo8j2WEO",
        "outputId": "3a8a5fb1-ee9c-4cef-8082-3c1e922b23c6"
      },
      "execution_count": 20,
      "outputs": [
        {
          "output_type": "stream",
          "name": "stdout",
          "text": [
            "tf.Tensor([  2.   0.  -3.   9.  10. 123.], shape=(6,), dtype=float32)\n",
            "tf.Tensor([ True False  True  True  True  True], shape=(6,), dtype=bool)\n"
          ]
        }
      ]
    },
    {
      "cell_type": "code",
      "source": [
        "# Create our first two dimension tensor\n",
        "tensor_two_d = tf.constant([\n",
        "                            [1, 2, 0],\n",
        "                            [3, 5, -1],\n",
        "                            [1, 5, 6],\n",
        "                            [2, 3, 8]], dtype=tf.float32)\n",
        "print(tensor_two_d)"
      ],
      "metadata": {
        "colab": {
          "base_uri": "https://localhost:8080/"
        },
        "id": "aUVxuaeF2WCd",
        "outputId": "ad48c8b1-4ea6-47d2-ce8e-0e2d14756ec6"
      },
      "execution_count": 216,
      "outputs": [
        {
          "output_type": "stream",
          "name": "stdout",
          "text": [
            "tf.Tensor(\n",
            "[[ 1.  2.  0.]\n",
            " [ 3.  5. -1.]\n",
            " [ 1.  5.  6.]\n",
            " [ 2.  3.  8.]], shape=(4, 3), dtype=float32)\n"
          ]
        }
      ]
    },
    {
      "cell_type": "code",
      "source": [
        "# Create our first 3d tensor\n",
        "tensor_three_d = tf.constant(\n",
        "                            [[[1, 2, 0],\n",
        "                             [3, 5, -1]],\n",
        "\n",
        "                            [[10, 2, 0],\n",
        "                             [1, 0, 2]],\n",
        "\n",
        "                            [[5, 8, 0],\n",
        "                             [2, 7, 0]],\n",
        "\n",
        "                            [[2, 1, 9],\n",
        "                             [4, -3, 32]]]\n",
        ")\n",
        "print(tensor_three_d)\n",
        "print(\"------------------------\")\n",
        "print(f\"tensor shape: {tensor_three_d.shape}\")\n",
        "print(f\"tensor dimension: {tensor_three_d.ndim}d\")"
      ],
      "metadata": {
        "colab": {
          "base_uri": "https://localhost:8080/"
        },
        "id": "bAIIZSmnDPmo",
        "outputId": "6968798b-fc51-4e34-bfe3-4e297fab0dd9"
      },
      "execution_count": 22,
      "outputs": [
        {
          "output_type": "stream",
          "name": "stdout",
          "text": [
            "tf.Tensor(\n",
            "[[[ 1  2  0]\n",
            "  [ 3  5 -1]]\n",
            "\n",
            " [[10  2  0]\n",
            "  [ 1  0  2]]\n",
            "\n",
            " [[ 5  8  0]\n",
            "  [ 2  7  0]]\n",
            "\n",
            " [[ 2  1  9]\n",
            "  [ 4 -3 32]]], shape=(4, 2, 3), dtype=int32)\n",
            "------------------------\n",
            "tensor shape: (4, 2, 3)\n",
            "tensor dimension: 3d\n"
          ]
        }
      ]
    },
    {
      "cell_type": "code",
      "source": [
        "# Create our first four dimension tensor\n",
        "tensor_four_d = tf.constant(\n",
        "                            [[[[1, 2, 0],\n",
        "                             [3, 5, -1]],\n",
        "\n",
        "                             [[10, 2, 0],\n",
        "                             [1, 0, 2]],\n",
        "\n",
        "                             [[5, 8, 0],\n",
        "                             [2, 7, 0]],\n",
        "\n",
        "                             [[2, 1, 9],\n",
        "                             [4, -3, 32]]],\n",
        "                             \n",
        "                                           [[[4, 5, 4],\n",
        "                                             [3, 1, 1]],\n",
        "                             \n",
        "                                             [[0, 2, 5],\n",
        "                                              [0, 4, 3]],\n",
        "                             \n",
        "                                             [[3, 2, 4],\n",
        "                                              [5, 8 ,3]],\n",
        "                             \n",
        "                                             [[8, 2, 5],\n",
        "                                              [2, 3, 3]]],\n",
        "                                                          [[[0, 2, 4],\n",
        "                                                            [5, 3, 1]],\n",
        "                                                           \n",
        "                                                           [[0, 2, 0],\n",
        "                                                            [-1, 10, 0]],\n",
        "                                                           \n",
        "                                                           [[0, 5, 1],\n",
        "                                                            [1, 7, 0]],\n",
        "                                                           \n",
        "                                                           [[3, 8, 7],\n",
        "                                                            [2, 3, 2]]]])\n",
        "print(tensor_four_d)\n",
        "print(\"------------------------\")\n",
        "print(f\"tensor shape: {tensor_four_d.shape}\")\n",
        "print(f\"tensor dimension: {tensor_four_d.ndim}d\")"
      ],
      "metadata": {
        "colab": {
          "base_uri": "https://localhost:8080/"
        },
        "id": "H1WIjhLODPi0",
        "outputId": "97ba2617-dece-49c0-9503-ae96e2b15ee4"
      },
      "execution_count": 23,
      "outputs": [
        {
          "output_type": "stream",
          "name": "stdout",
          "text": [
            "tf.Tensor(\n",
            "[[[[ 1  2  0]\n",
            "   [ 3  5 -1]]\n",
            "\n",
            "  [[10  2  0]\n",
            "   [ 1  0  2]]\n",
            "\n",
            "  [[ 5  8  0]\n",
            "   [ 2  7  0]]\n",
            "\n",
            "  [[ 2  1  9]\n",
            "   [ 4 -3 32]]]\n",
            "\n",
            "\n",
            " [[[ 4  5  4]\n",
            "   [ 3  1  1]]\n",
            "\n",
            "  [[ 0  2  5]\n",
            "   [ 0  4  3]]\n",
            "\n",
            "  [[ 3  2  4]\n",
            "   [ 5  8  3]]\n",
            "\n",
            "  [[ 8  2  5]\n",
            "   [ 2  3  3]]]\n",
            "\n",
            "\n",
            " [[[ 0  2  4]\n",
            "   [ 5  3  1]]\n",
            "\n",
            "  [[ 0  2  0]\n",
            "   [-1 10  0]]\n",
            "\n",
            "  [[ 0  5  1]\n",
            "   [ 1  7  0]]\n",
            "\n",
            "  [[ 3  8  7]\n",
            "   [ 2  3  2]]]], shape=(3, 4, 2, 3), dtype=int32)\n",
            "------------------------\n",
            "tensor shape: (3, 4, 2, 3)\n",
            "tensor dimension: 4d\n"
          ]
        }
      ]
    },
    {
      "cell_type": "code",
      "source": [
        "# lets create our first boolean tensor\n",
        "tensor_bool = tf.constant([[True, False, True],\n",
        "                          [True, False, False]])\n",
        "print(tensor_bool)\n",
        "# lets try to turn this tensor into int\n",
        "tensor_int = tf.cast(tensor_bool, dtype=tf.int32)\n",
        "print(tensor_int) # true will be converted as 1 and false will be as 0"
      ],
      "metadata": {
        "colab": {
          "base_uri": "https://localhost:8080/"
        },
        "id": "QKqYEzI6DPf1",
        "outputId": "e9db2e49-2ee8-445f-eae2-bf5c0203f906"
      },
      "execution_count": 24,
      "outputs": [
        {
          "output_type": "stream",
          "name": "stdout",
          "text": [
            "tf.Tensor(\n",
            "[[ True False  True]\n",
            " [ True False False]], shape=(2, 3), dtype=bool)\n",
            "tf.Tensor(\n",
            "[[1 0 1]\n",
            " [1 0 0]], shape=(2, 3), dtype=int32)\n"
          ]
        }
      ]
    },
    {
      "cell_type": "code",
      "source": [
        "# Lets create our first tensor of string\n",
        "tensor_string = tf.constant([[\"Vinay\", \"Abhay\", \"Shantanu\"],\n",
        "                            [\"Anjum\", \"Deevangi\", \"Tharak\"]])\n",
        "print(tensor_string)"
      ],
      "metadata": {
        "colab": {
          "base_uri": "https://localhost:8080/"
        },
        "id": "halExVR3DPdJ",
        "outputId": "6b53e178-3d51-4826-d54c-704b9708272e"
      },
      "execution_count": 25,
      "outputs": [
        {
          "output_type": "stream",
          "name": "stdout",
          "text": [
            "tf.Tensor(\n",
            "[[b'Vinay' b'Abhay' b'Shantanu']\n",
            " [b'Anjum' b'Deevangi' b'Tharak']], shape=(2, 3), dtype=string)\n"
          ]
        }
      ]
    },
    {
      "cell_type": "markdown",
      "source": [
        "### Let's learn how to convert NumPy array into Tensor"
      ],
      "metadata": {
        "id": "VBN4VSP2DPbJ"
      }
    },
    {
      "cell_type": "code",
      "source": [
        "# Lets convert NumPy array to Tensor\n",
        "import numpy as np\n",
        "np_array = np.array([1, 3, 4])\n",
        "print(np_array)"
      ],
      "metadata": {
        "colab": {
          "base_uri": "https://localhost:8080/"
        },
        "id": "UPLUew7FM-xU",
        "outputId": "32202267-9181-4d4c-ce42-315e37f72ba4"
      },
      "execution_count": 26,
      "outputs": [
        {
          "output_type": "stream",
          "name": "stdout",
          "text": [
            "[1 3 4]\n"
          ]
        }
      ]
    },
    {
      "cell_type": "code",
      "source": [
        "converted_tensor = tf.convert_to_tensor(np_array, dtype= tf.float32)\n",
        "print(converted_tensor)"
      ],
      "metadata": {
        "colab": {
          "base_uri": "https://localhost:8080/"
        },
        "id": "6CndEUayM-tn",
        "outputId": "0bc40449-05f4-43ad-c089-8db6990b2275"
      },
      "execution_count": 27,
      "outputs": [
        {
          "output_type": "stream",
          "name": "stdout",
          "text": [
            "tf.Tensor([1. 3. 4.], shape=(3,), dtype=float32)\n"
          ]
        }
      ]
    },
    {
      "cell_type": "markdown",
      "source": [
        "### Identical Tensors\n",
        "**Identical Tensors**\n",
        "`tf.eye`"
      ],
      "metadata": {
        "id": "OxyeZM25Tbrq"
      }
    },
    {
      "cell_type": "code",
      "source": [
        "# create tensor automatically but they are going to identical\n",
        "# using batchshape in eye method we create identity matrix\n",
        "identity_matrix = tf.eye(\n",
        "                          num_rows= 5, \n",
        "                          num_columns= None, \n",
        "                          batch_shape=[2, 3], \n",
        "                          dtype= tf.int64,\n",
        "                          name=None)\n",
        "print(identity_matrix)"
      ],
      "metadata": {
        "colab": {
          "base_uri": "https://localhost:8080/"
        },
        "id": "ycioSkZCM-qx",
        "outputId": "5eadff0c-10a7-4b03-9cd0-73981b8c0017"
      },
      "execution_count": 28,
      "outputs": [
        {
          "output_type": "stream",
          "name": "stdout",
          "text": [
            "tf.Tensor(\n",
            "[[[[1 0 0 0 0]\n",
            "   [0 1 0 0 0]\n",
            "   [0 0 1 0 0]\n",
            "   [0 0 0 1 0]\n",
            "   [0 0 0 0 1]]\n",
            "\n",
            "  [[1 0 0 0 0]\n",
            "   [0 1 0 0 0]\n",
            "   [0 0 1 0 0]\n",
            "   [0 0 0 1 0]\n",
            "   [0 0 0 0 1]]\n",
            "\n",
            "  [[1 0 0 0 0]\n",
            "   [0 1 0 0 0]\n",
            "   [0 0 1 0 0]\n",
            "   [0 0 0 1 0]\n",
            "   [0 0 0 0 1]]]\n",
            "\n",
            "\n",
            " [[[1 0 0 0 0]\n",
            "   [0 1 0 0 0]\n",
            "   [0 0 1 0 0]\n",
            "   [0 0 0 1 0]\n",
            "   [0 0 0 0 1]]\n",
            "\n",
            "  [[1 0 0 0 0]\n",
            "   [0 1 0 0 0]\n",
            "   [0 0 1 0 0]\n",
            "   [0 0 0 1 0]\n",
            "   [0 0 0 0 1]]\n",
            "\n",
            "  [[1 0 0 0 0]\n",
            "   [0 1 0 0 0]\n",
            "   [0 0 1 0 0]\n",
            "   [0 0 0 1 0]\n",
            "   [0 0 0 0 1]]]], shape=(2, 3, 5, 5), dtype=int64)\n"
          ]
        }
      ]
    },
    {
      "cell_type": "markdown",
      "source": [
        "### Tensor filled with scalar value or in other word zero dimensions values\n",
        "**Scalar Value tensor** of any dimension:\n",
        "`tf.fill`"
      ],
      "metadata": {
        "id": "_GI-zq1lM-oY"
      }
    },
    {
      "cell_type": "code",
      "source": [
        "# scalar meaning zero dimension tensors\n",
        "tensor_scaler_fill = tf.fill(dims=[4, 3, 6], value=4)\n",
        "print(tensor_scaler_fill)"
      ],
      "metadata": {
        "colab": {
          "base_uri": "https://localhost:8080/"
        },
        "id": "by0czTsMM-li",
        "outputId": "bd79192b-aca9-4ca9-f97c-b508211f4e25"
      },
      "execution_count": 29,
      "outputs": [
        {
          "output_type": "stream",
          "name": "stdout",
          "text": [
            "tf.Tensor(\n",
            "[[[4 4 4 4 4 4]\n",
            "  [4 4 4 4 4 4]\n",
            "  [4 4 4 4 4 4]]\n",
            "\n",
            " [[4 4 4 4 4 4]\n",
            "  [4 4 4 4 4 4]\n",
            "  [4 4 4 4 4 4]]\n",
            "\n",
            " [[4 4 4 4 4 4]\n",
            "  [4 4 4 4 4 4]\n",
            "  [4 4 4 4 4 4]]\n",
            "\n",
            " [[4 4 4 4 4 4]\n",
            "  [4 4 4 4 4 4]\n",
            "  [4 4 4 4 4 4]]], shape=(4, 3, 6), dtype=int32)\n"
          ]
        }
      ]
    },
    {
      "cell_type": "markdown",
      "source": [
        "### Creation of Tensor with all element are set to one\n",
        "**Tensor One** `tf.ones`"
      ],
      "metadata": {
        "id": "4W50BH5bM-jN"
      }
    },
    {
      "cell_type": "code",
      "source": [
        "tensor_one = tf.ones([2, 5, 5], dtype=tf.float16)\n",
        "print(tensor_one)"
      ],
      "metadata": {
        "colab": {
          "base_uri": "https://localhost:8080/"
        },
        "id": "MFk9X0fEM-hU",
        "outputId": "7467943d-6399-47b1-8a16-f1d904539f5c"
      },
      "execution_count": 30,
      "outputs": [
        {
          "output_type": "stream",
          "name": "stdout",
          "text": [
            "tf.Tensor(\n",
            "[[[1. 1. 1. 1. 1.]\n",
            "  [1. 1. 1. 1. 1.]\n",
            "  [1. 1. 1. 1. 1.]\n",
            "  [1. 1. 1. 1. 1.]\n",
            "  [1. 1. 1. 1. 1.]]\n",
            "\n",
            " [[1. 1. 1. 1. 1.]\n",
            "  [1. 1. 1. 1. 1.]\n",
            "  [1. 1. 1. 1. 1.]\n",
            "  [1. 1. 1. 1. 1.]\n",
            "  [1. 1. 1. 1. 1.]]], shape=(2, 5, 5), dtype=float16)\n"
          ]
        }
      ]
    },
    {
      "cell_type": "markdown",
      "source": [
        "### Tensor Ones_like\n",
        "It's just imitate the shape of your tensor but the value will be given as one\n",
        "**Tensor ones_like**: `tf.ones_like`"
      ],
      "metadata": {
        "id": "vNu6jeU3XBL1"
      }
    },
    {
      "cell_type": "code",
      "source": [
        "tensor = tf.constant([[1, 3, 5],\n",
        "                      [2, 5, 6],\n",
        "                      [2, 55, 6]], dtype=tf.float32)\n",
        "# lets imitate the above tensor\n",
        "tensor_ones_like = tf.ones_like(tensor)\n",
        "print(tensor_ones_like)"
      ],
      "metadata": {
        "colab": {
          "base_uri": "https://localhost:8080/"
        },
        "id": "Tv1-VQ_oXBIx",
        "outputId": "271139a2-4b21-4093-e9a0-22d6883ea212"
      },
      "execution_count": 31,
      "outputs": [
        {
          "output_type": "stream",
          "name": "stdout",
          "text": [
            "tf.Tensor(\n",
            "[[1. 1. 1.]\n",
            " [1. 1. 1.]\n",
            " [1. 1. 1.]], shape=(3, 3), dtype=float32)\n"
          ]
        }
      ]
    },
    {
      "cell_type": "markdown",
      "source": [
        "### Creation of Tensor with all element are set to zero\n",
        "**Tensor Zero** `tf.zeros`"
      ],
      "metadata": {
        "id": "3wFHG9D3XBGq"
      }
    },
    {
      "cell_type": "code",
      "source": [
        "# Create a tensor with zero staler\n",
        "tensor_zero = tf.zeros([2, 5, 6], dtype= tf.int32)\n",
        "print(tensor_zero)"
      ],
      "metadata": {
        "colab": {
          "base_uri": "https://localhost:8080/"
        },
        "id": "i7aQjm5zXBDb",
        "outputId": "a127db33-849f-44b4-9554-13c12d0ace42"
      },
      "execution_count": 32,
      "outputs": [
        {
          "output_type": "stream",
          "name": "stdout",
          "text": [
            "tf.Tensor(\n",
            "[[[0 0 0 0 0 0]\n",
            "  [0 0 0 0 0 0]\n",
            "  [0 0 0 0 0 0]\n",
            "  [0 0 0 0 0 0]\n",
            "  [0 0 0 0 0 0]]\n",
            "\n",
            " [[0 0 0 0 0 0]\n",
            "  [0 0 0 0 0 0]\n",
            "  [0 0 0 0 0 0]\n",
            "  [0 0 0 0 0 0]\n",
            "  [0 0 0 0 0 0]]], shape=(2, 5, 6), dtype=int32)\n"
          ]
        }
      ]
    },
    {
      "cell_type": "markdown",
      "source": [
        "### Let's findout tha shape of the tensor"
      ],
      "metadata": {
        "id": "kcHnS4-iZlXq"
      }
    },
    {
      "cell_type": "code",
      "source": [
        "# lets find out the shape of the tensor\n",
        "tensor_shape = tf.shape(tensor_zero)\n",
        "print(tensor_shape)"
      ],
      "metadata": {
        "colab": {
          "base_uri": "https://localhost:8080/"
        },
        "id": "Emzeqq8sZlS1",
        "outputId": "7c2f894b-1a75-4a1a-98f1-4a4a64945b2c"
      },
      "execution_count": 33,
      "outputs": [
        {
          "output_type": "stream",
          "name": "stdout",
          "text": [
            "tf.Tensor([2 5 6], shape=(3,), dtype=int32)\n"
          ]
        }
      ]
    },
    {
      "cell_type": "code",
      "source": [
        "# lets find out the rank also\n",
        "# rank stand for dimension stage\n",
        "tensor_rank = tf.rank(tensor_zero)\n",
        "print(tensor_rank)"
      ],
      "metadata": {
        "colab": {
          "base_uri": "https://localhost:8080/"
        },
        "id": "_kpP8NchZlP7",
        "outputId": "9592d1ba-0406-45c7-e6f5-1f25b6fb9f96"
      },
      "execution_count": 34,
      "outputs": [
        {
          "output_type": "stream",
          "name": "stdout",
          "text": [
            "tf.Tensor(3, shape=(), dtype=int32)\n"
          ]
        }
      ]
    },
    {
      "cell_type": "code",
      "source": [
        "# lets find out the size also of our four_d tensor (3, 4, 2, 3)\n",
        "# this will return zero d tensors in total\n",
        "tensor_size = tf.size(tensor_four_d, out_type=tf.float32)\n",
        "print(tensor_size)"
      ],
      "metadata": {
        "colab": {
          "base_uri": "https://localhost:8080/"
        },
        "id": "grKzRCypZlNr",
        "outputId": "f4d8e2ff-1631-456f-fbd3-90e719efe9ef"
      },
      "execution_count": 35,
      "outputs": [
        {
          "output_type": "stream",
          "name": "stdout",
          "text": [
            "tf.Tensor(72.0, shape=(), dtype=float32)\n"
          ]
        }
      ]
    },
    {
      "cell_type": "markdown",
      "source": [
        "### Lets create a random.normal Tensor\n",
        "Using: `tf.random.normal`"
      ],
      "metadata": {
        "id": "Z9FPsWUfZlLE"
      }
    },
    {
      "cell_type": "code",
      "source": [
        "# create first random tensor\n",
        "# tf.random.set_seed(108);\n",
        "my_random_tensor= tf.random.normal(\n",
        "    shape=[2, 4, 3],\n",
        "    mean=0.2,\n",
        "    stddev=1.0,\n",
        "    dtype=tf.dtypes.float32,\n",
        "    seed=None,\n",
        "    name=None\n",
        ")\n",
        "print(my_random_tensor)"
      ],
      "metadata": {
        "colab": {
          "base_uri": "https://localhost:8080/"
        },
        "id": "wB2oxKAfcpGU",
        "outputId": "dcf6e088-0198-4555-99f0-7ac8fa1c6e1e"
      },
      "execution_count": 36,
      "outputs": [
        {
          "output_type": "stream",
          "name": "stdout",
          "text": [
            "tf.Tensor(\n",
            "[[[ 1.5372868   1.8413193  -1.25552   ]\n",
            "  [-0.18345682  1.3726352   1.0807921 ]\n",
            "  [ 0.4802217  -0.00744937  2.1154366 ]\n",
            "  [ 1.2224411   0.20632002  1.8528371 ]]\n",
            "\n",
            " [[ 1.1050026  -0.6330713   0.39583114]\n",
            "  [-2.861673    0.40034133 -0.72476655]\n",
            "  [ 0.18139207 -0.16243558 -0.42183393]\n",
            "  [-0.53782964 -0.2838322   0.6884018 ]]], shape=(2, 4, 3), dtype=float32)\n"
          ]
        }
      ]
    },
    {
      "cell_type": "markdown",
      "source": [
        "### Lets create a random.uniform Tensor\n",
        "Using: `tf.random.uniform`"
      ],
      "metadata": {
        "id": "m8Io0nnMiR12"
      }
    },
    {
      "cell_type": "code",
      "source": [
        "# it is totally abstract\n",
        "tf.random.set_seed(108)\n",
        "tensor_uniform = tf.random.uniform(\n",
        "    shape=[2, 4, 2, 3],\n",
        "    minval=1,\n",
        "    maxval=108,\n",
        "    dtype=tf.dtypes.int32,\n",
        "    seed=None,\n",
        "    name=None)\n",
        "print(tensor_uniform)"
      ],
      "metadata": {
        "colab": {
          "base_uri": "https://localhost:8080/"
        },
        "id": "6gq05eSkcpDD",
        "outputId": "bc0e67f8-92b6-47ae-eeb9-e44a7120cabc"
      },
      "execution_count": 37,
      "outputs": [
        {
          "output_type": "stream",
          "name": "stdout",
          "text": [
            "tf.Tensor(\n",
            "[[[[ 80  79   3]\n",
            "   [  6  29  20]]\n",
            "\n",
            "  [[106  48  53]\n",
            "   [ 88  63  33]]\n",
            "\n",
            "  [[ 37  13  10]\n",
            "   [ 51   3  61]]\n",
            "\n",
            "  [[  3  57  63]\n",
            "   [ 43  42  52]]]\n",
            "\n",
            "\n",
            " [[[ 13  19  21]\n",
            "   [ 49  81 103]]\n",
            "\n",
            "  [[ 43  87   8]\n",
            "   [  9  18  94]]\n",
            "\n",
            "  [[ 69   4  99]\n",
            "   [ 46  93 102]]\n",
            "\n",
            "  [[101  17  24]\n",
            "   [ 27  77  87]]]], shape=(2, 4, 2, 3), dtype=int32)\n"
          ]
        }
      ]
    },
    {
      "cell_type": "markdown",
      "source": [
        "# Indexing\n",
        "\n",
        "`**indexing** (minindex:maxindex:step)`"
      ],
      "metadata": {
        "id": "OoSJgfo3cpAS"
      }
    },
    {
      "cell_type": "code",
      "source": [
        "import tensorflow as tf\n",
        "tensor_indexing = tf.constant([2, 4, 34, 3, 7, 8])\n",
        "print(tensor_indexing)\n",
        "# lets get the first four index\n",
        "print(tensor_indexing[2:-1])\n",
        "# indexing (minindex:maxindex:step)\n",
        "print(tensor_indexing[1:7:1])"
      ],
      "metadata": {
        "colab": {
          "base_uri": "https://localhost:8080/"
        },
        "id": "By6MEypnco9q",
        "outputId": "a0fbc59f-9a58-4a11-af36-d2d23b2c7c51"
      },
      "execution_count": 38,
      "outputs": [
        {
          "output_type": "stream",
          "name": "stdout",
          "text": [
            "tf.Tensor([ 2  4 34  3  7  8], shape=(6,), dtype=int32)\n",
            "tf.Tensor([34  3  7], shape=(3,), dtype=int32)\n",
            "tf.Tensor([ 4 34  3  7  8], shape=(5,), dtype=int32)\n"
          ]
        }
      ]
    },
    {
      "cell_type": "code",
      "source": [
        "# Now do indexing in two_dimension tensor\n",
        "print(tensor_two_d)\n",
        "# Lets do indexing\n",
        "print(\"\\nindexing result\\n\")\n",
        "print(tensor_two_d[1:])\n",
        "print(\"--------------------\")\n",
        "print(tensor_two_d[:,2:])"
      ],
      "metadata": {
        "id": "4K0JaqI9mQ-X",
        "colab": {
          "base_uri": "https://localhost:8080/"
        },
        "outputId": "858dff59-d256-48de-d914-0e0c5f26cef7"
      },
      "execution_count": 87,
      "outputs": [
        {
          "output_type": "stream",
          "name": "stdout",
          "text": [
            "tf.Tensor(\n",
            "[[ 1  2  0]\n",
            " [ 3  5 -1]\n",
            " [ 1  5  6]\n",
            " [ 2  3  8]], shape=(4, 3), dtype=int64)\n",
            "\n",
            "indexing result\n",
            "\n",
            "tf.Tensor(\n",
            "[[ 3  5 -1]\n",
            " [ 1  5  6]\n",
            " [ 2  3  8]], shape=(3, 3), dtype=int64)\n",
            "--------------------\n",
            "tf.Tensor(\n",
            "[[ 0]\n",
            " [-1]\n",
            " [ 6]\n",
            " [ 8]], shape=(4, 1), dtype=int64)\n"
          ]
        }
      ]
    },
    {
      "cell_type": "code",
      "source": [
        "# Lets work on 3d tensor\n",
        "print(tensor_three_d)\n",
        "print(\"\\nIndex Result\\n\")\n",
        "print(tensor_three_d[..., 1:3, 1:])"
      ],
      "metadata": {
        "id": "bkPV_vMlmQ6O",
        "colab": {
          "base_uri": "https://localhost:8080/"
        },
        "outputId": "7d1dc173-3d00-4389-a260-10acf2cba1d4"
      },
      "execution_count": 138,
      "outputs": [
        {
          "output_type": "stream",
          "name": "stdout",
          "text": [
            "tf.Tensor(\n",
            "[[[ 1  2  0]\n",
            "  [ 3  5 -1]]\n",
            "\n",
            " [[10  2  0]\n",
            "  [ 1  0  2]]\n",
            "\n",
            " [[ 5  8  0]\n",
            "  [ 2  7  0]]\n",
            "\n",
            " [[ 2  1  9]\n",
            "  [ 4 -3 32]]], shape=(4, 2, 3), dtype=int32)\n",
            "\n",
            "Index Result\n",
            "\n",
            "tf.Tensor(\n",
            "[[[ 5 -1]]\n",
            "\n",
            " [[ 0  2]]\n",
            "\n",
            " [[ 7  0]]\n",
            "\n",
            " [[-3 32]]], shape=(4, 1, 2), dtype=int32)\n"
          ]
        }
      ]
    },
    {
      "cell_type": "markdown",
      "source": [
        "# Math Operators"
      ],
      "metadata": {
        "id": "uQyz7pBjmQ3b"
      }
    },
    {
      "cell_type": "markdown",
      "source": [
        "#### `tf.math.abs`\n",
        "\n",
        "* what abs do -> it just turn the -ve(negative value) into positive(+ve), if the input value is already positive in the tensor than it keeps that value, don't tuch it\n"
      ],
      "metadata": {
        "id": "L-dlv2iemQ0U"
      }
    },
    {
      "cell_type": "code",
      "source": [
        "x_abs = tf.constant([1, -2, -178])\n",
        "tf.abs(x_abs)"
      ],
      "metadata": {
        "id": "-9Nj81U_mQxm",
        "colab": {
          "base_uri": "https://localhost:8080/"
        },
        "outputId": "c5ff309d-6683-4abc-c67f-0b8b3357b7c0"
      },
      "execution_count": 142,
      "outputs": [
        {
          "output_type": "execute_result",
          "data": {
            "text/plain": [
              "<tf.Tensor: shape=(3,), dtype=int32, numpy=array([  1,   2, 178], dtype=int32)>"
            ]
          },
          "metadata": {},
          "execution_count": 142
        }
      ]
    },
    {
      "cell_type": "code",
      "source": [
        "# complex number\n",
        "x_complex_abs = tf.constant([[-244 + 3.5j], [-34435 + 4.5j]])\n",
        "tf.abs(x_complex_abs)\n"
      ],
      "metadata": {
        "id": "PsvhktWVmQuk",
        "colab": {
          "base_uri": "https://localhost:8080/"
        },
        "outputId": "a2f283bc-85bb-4d2f-b8d6-d4fe2031ad03"
      },
      "execution_count": 149,
      "outputs": [
        {
          "output_type": "execute_result",
          "data": {
            "text/plain": [
              "<tf.Tensor: shape=(2, 1), dtype=float64, numpy=\n",
              "array([[  244.02510117],\n",
              "       [34435.00029403]])>"
            ]
          },
          "metadata": {},
          "execution_count": 149
        }
      ]
    },
    {
      "cell_type": "code",
      "source": [
        "tf.sqrt( (244)**2 + 3.5**2)"
      ],
      "metadata": {
        "id": "fQaLAZJdmQr2",
        "colab": {
          "base_uri": "https://localhost:8080/"
        },
        "outputId": "23414a62-9244-4a94-8876-10583450bd35"
      },
      "execution_count": 167,
      "outputs": [
        {
          "output_type": "execute_result",
          "data": {
            "text/plain": [
              "<tf.Tensor: shape=(), dtype=float32, numpy=244.0251>"
            ]
          },
          "metadata": {},
          "execution_count": 167
        }
      ]
    },
    {
      "cell_type": "markdown",
      "source": [
        "#### `tf.math.add`"
      ],
      "metadata": {
        "id": "j7gNSc01mQpL"
      }
    },
    {
      "cell_type": "code",
      "source": [
        "x_1 = tf.constant([2, 4, 55, 76, 3], dtype= tf.float32)\n",
        "x_2 = tf.constant([22, 4, 355, 276, 2323], dtype= tf.float32)\n",
        "x_3 = 3\n",
        "addition= tf.add(x_1, x_3, x_2)\n",
        "print(addition)"
      ],
      "metadata": {
        "id": "mNoU4M5CmQnM",
        "colab": {
          "base_uri": "https://localhost:8080/"
        },
        "outputId": "f2d9fc8e-568a-4f47-8cf4-f9700e7f880a"
      },
      "execution_count": 177,
      "outputs": [
        {
          "output_type": "stream",
          "name": "stdout",
          "text": [
            "tf.Tensor([ 5.  7. 58. 79.  6.], shape=(5,), dtype=float32)\n"
          ]
        }
      ]
    },
    {
      "cell_type": "markdown",
      "source": [
        "#### `tf.math.multiply`"
      ],
      "metadata": {
        "id": "KEDBB4Njl1id"
      }
    },
    {
      "cell_type": "code",
      "source": [
        "x1= tf.constant([2, 2, 5, 6, 76, 74], dtype= tf.float32)\n",
        "x2= tf.constant([[2], [3], [9]], dtype= tf.float32)\n",
        "print(x1.shape)\n",
        "print(x2.shape)\n",
        "tf.multiply(x1, x2 )"
      ],
      "metadata": {
        "colab": {
          "base_uri": "https://localhost:8080/"
        },
        "id": "Cv3_EuOnkdae",
        "outputId": "c361bd14-eda3-4bd9-ea15-d9116cdac50e"
      },
      "execution_count": 210,
      "outputs": [
        {
          "output_type": "stream",
          "name": "stdout",
          "text": [
            "(6,)\n",
            "(3, 1)\n"
          ]
        },
        {
          "output_type": "execute_result",
          "data": {
            "text/plain": [
              "<tf.Tensor: shape=(3, 6), dtype=float32, numpy=\n",
              "array([[  4.,   4.,  10.,  12., 152., 148.],\n",
              "       [  6.,   6.,  15.,  18., 228., 222.],\n",
              "       [ 18.,  18.,  45.,  54., 684., 666.]], dtype=float32)>"
            ]
          },
          "metadata": {},
          "execution_count": 210
        }
      ]
    },
    {
      "cell_type": "markdown",
      "source": [
        "#### `tf.math.subtract`"
      ],
      "metadata": {
        "id": "yZZJQ4W6kdUd"
      }
    },
    {
      "cell_type": "code",
      "source": [
        "tf.subtract(x_1, x_2)"
      ],
      "metadata": {
        "colab": {
          "base_uri": "https://localhost:8080/"
        },
        "id": "4p7eQsC2kdR9",
        "outputId": "dd4226df-0056-48f9-f1a4-abd3d6597cc9"
      },
      "execution_count": 181,
      "outputs": [
        {
          "output_type": "execute_result",
          "data": {
            "text/plain": [
              "<tf.Tensor: shape=(5,), dtype=float32, numpy=array([  -20.,     0.,  -300.,  -200., -2320.], dtype=float32)>"
            ]
          },
          "metadata": {},
          "execution_count": 181
        }
      ]
    },
    {
      "cell_type": "markdown",
      "source": [
        "#### `tf.math.divide`"
      ],
      "metadata": {
        "id": "6SOprwvQkdPi"
      }
    },
    {
      "cell_type": "code",
      "source": [
        "tf.divide(x_1, x_2)"
      ],
      "metadata": {
        "colab": {
          "base_uri": "https://localhost:8080/"
        },
        "id": "mLR7jRllkdNS",
        "outputId": "03420268-1785-47b4-cce4-f82df57bc0ac"
      },
      "execution_count": 182,
      "outputs": [
        {
          "output_type": "execute_result",
          "data": {
            "text/plain": [
              "<tf.Tensor: shape=(5,), dtype=float32, numpy=\n",
              "array([0.09090909, 1.        , 0.15492958, 0.2753623 , 0.00129143],\n",
              "      dtype=float32)>"
            ]
          },
          "metadata": {},
          "execution_count": 182
        }
      ]
    },
    {
      "cell_type": "code",
      "source": [
        "xz = tf.constant([1, -3, 5, 7, 8], dtype=tf.float32)\n",
        "yz = tf.constant([0, -4, 5, 0, 0], dtype=tf.float32)\n",
        "# you will see inf(infinite) written in the result because we are trying to devide something by 0\n",
        "\n",
        "print(tf.math.divide(xz, yz))\n",
        "# to handle this situation we have something called tf.math.divide_no_nan\n",
        "print(tf.math.divide_no_nan(xz, yz))"
      ],
      "metadata": {
        "colab": {
          "base_uri": "https://localhost:8080/"
        },
        "id": "6-RLJXC3kdLW",
        "outputId": "742107bc-da68-47ad-e1d8-c2f928e254fc"
      },
      "execution_count": 219,
      "outputs": [
        {
          "output_type": "stream",
          "name": "stdout",
          "text": [
            "tf.Tensor([ inf 0.75 1.    inf  inf], shape=(5,), dtype=float32)\n",
            "tf.Tensor([0.   0.75 1.   0.   0.  ], shape=(5,), dtype=float32)\n"
          ]
        }
      ]
    },
    {
      "cell_type": "code",
      "source": [
        "x = tf.constant([1, 4, 5, 7, 8], dtype=tf.float32)\n",
        "y = tf.constant(0, dtype=tf.float32)\n",
        "# you will see inf(infinite) written in the result because we are trying to devide something by 0\n",
        "\n",
        "print(tf.math.divide(x, y))\n",
        "# to handle this situation we have something called tf.math.divide_no_nan\n",
        "print(tf.math.divide_no_nan(x, y))"
      ],
      "metadata": {
        "colab": {
          "base_uri": "https://localhost:8080/"
        },
        "id": "1uUaNkAloSqE",
        "outputId": "c0f77bef-5fa5-4ea4-89a3-b67a178dcb49"
      },
      "execution_count": 191,
      "outputs": [
        {
          "output_type": "stream",
          "name": "stdout",
          "text": [
            "tf.Tensor([inf inf inf inf inf], shape=(5,), dtype=float32)\n",
            "tf.Tensor([0. 0. 0. 0. 0.], shape=(5,), dtype=float32)\n"
          ]
        }
      ]
    },
    {
      "cell_type": "markdown",
      "source": [
        "#### `tf.math.maximum`"
      ],
      "metadata": {
        "id": "6QN5_1QBoSmR"
      }
    },
    {
      "cell_type": "code",
      "source": [
        "# to get or findout maximum values from your tensors values, use this:\n",
        "tf.math.maximum(xz, yz)"
      ],
      "metadata": {
        "colab": {
          "base_uri": "https://localhost:8080/"
        },
        "id": "iP0HLzHAoSkF",
        "outputId": "b0264b01-9b42-4907-fa10-b5a82f1922d5"
      },
      "execution_count": 220,
      "outputs": [
        {
          "output_type": "execute_result",
          "data": {
            "text/plain": [
              "<tf.Tensor: shape=(5,), dtype=float32, numpy=array([ 1., -3.,  5.,  7.,  8.], dtype=float32)>"
            ]
          },
          "metadata": {},
          "execution_count": 220
        }
      ]
    },
    {
      "cell_type": "markdown",
      "source": [
        "#### `tf.math.argmax`\n",
        "\n",
        "* argmax finds the higest value position on perticular index"
      ],
      "metadata": {
        "id": "dgvFNr4ByKKj"
      }
    },
    {
      "cell_type": "code",
      "source": [
        "x_argmax = tf.constant([1112, 120, 30, 3, 6])\n",
        "print(x_argmax.shape)\n",
        "tf.math.argmax(x_argmax)\n"
      ],
      "metadata": {
        "colab": {
          "base_uri": "https://localhost:8080/"
        },
        "id": "G7N17hQfxt_r",
        "outputId": "248ed22b-25d5-4aff-9760-6df7aa7f42c2"
      },
      "execution_count": 236,
      "outputs": [
        {
          "output_type": "stream",
          "name": "stdout",
          "text": [
            "(5,)\n"
          ]
        },
        {
          "output_type": "execute_result",
          "data": {
            "text/plain": [
              "<tf.Tensor: shape=(), dtype=int64, numpy=0>"
            ]
          },
          "metadata": {},
          "execution_count": 236
        }
      ]
    },
    {
      "cell_type": "code",
      "source": [
        "x_argmax2 = tf.constant([[2, 20, 30, 3, 6], \n",
        "                        [3, 11, 16, 13, 80],\n",
        "                        [14, 45, 23, 5, 27]])\n",
        "print(x_argmax2.shape)\n",
        "tf.math.argmin(x_argmax2, 1)\n"
      ],
      "metadata": {
        "colab": {
          "base_uri": "https://localhost:8080/"
        },
        "id": "l1ZhfxvVoSh3",
        "outputId": "9ca05e5e-ff8c-4908-b461-77952383c378"
      },
      "execution_count": 245,
      "outputs": [
        {
          "output_type": "stream",
          "name": "stdout",
          "text": [
            "(3, 5)\n"
          ]
        },
        {
          "output_type": "execute_result",
          "data": {
            "text/plain": [
              "<tf.Tensor: shape=(3,), dtype=int64, numpy=array([0, 0, 3])>"
            ]
          },
          "metadata": {},
          "execution_count": 245
        }
      ]
    },
    {
      "cell_type": "markdown",
      "source": [
        "#### `tf.math.pow`\n",
        "\n",
        "it is like 2 ki power 2 = 4"
      ],
      "metadata": {
        "id": "ZhBvqmfF9oS6"
      }
    },
    {
      "cell_type": "code",
      "source": [
        "x = tf.constant([[2, 2], [3, 3]])\n",
        "y = tf.constant([[1, 4], [1, 0]])\n",
        "tf.pow(x, y)\n"
      ],
      "metadata": {
        "colab": {
          "base_uri": "https://localhost:8080/"
        },
        "id": "tE_YqPnZoSfX",
        "outputId": "74763685-c9cf-4d85-f42b-1f09cefb099c"
      },
      "execution_count": 254,
      "outputs": [
        {
          "output_type": "execute_result",
          "data": {
            "text/plain": [
              "<tf.Tensor: shape=(2, 2), dtype=int32, numpy=\n",
              "array([[ 2, 16],\n",
              "       [ 3,  1]], dtype=int32)>"
            ]
          },
          "metadata": {},
          "execution_count": 254
        }
      ]
    },
    {
      "cell_type": "markdown",
      "source": [
        "#### `tf.math.reduce_sum`\n",
        "* This just reduce the value inside the tensor meaning summing of the values\n",
        "* You can choose the option of axis meaning want to sum vertical values or horizonal or say all than u have to keep is None"
      ],
      "metadata": {
        "id": "-PYCtd4z_jq8"
      }
    },
    {
      "cell_type": "code",
      "source": [
        "print(tensor_two_d)\n",
        "print(\"-------------to sum all---------------\")\n",
        "print(tf.math.reduce_sum(\n",
        "                   tensor_two_d, \n",
        "                   axis=None, \n",
        "                   keepdims=False, \n",
        "                   name=None))\n",
        "print(\"------------\\nTo reduce the tensor to the higest value----------------\")\n",
        "print(tf.math.reduce_max(\n",
        "                   tensor_two_d, \n",
        "                   axis=None, \n",
        "                   keepdims=False, \n",
        "                   name=None))\n",
        "print(\"--------------\\nTo reduce the tensor to the lowest value--------------\")\n",
        "print(tf.math.reduce_min(\n",
        "                   tensor_two_d, \n",
        "                   axis=None, \n",
        "                   keepdims=False, \n",
        "                   name=None))\n"
      ],
      "metadata": {
        "colab": {
          "base_uri": "https://localhost:8080/"
        },
        "id": "-5mKBLaDoSdQ",
        "outputId": "596369d4-3146-4015-d041-2300452572eb"
      },
      "execution_count": 269,
      "outputs": [
        {
          "output_type": "stream",
          "name": "stdout",
          "text": [
            "tf.Tensor(\n",
            "[[ 1.  2.  0.]\n",
            " [ 3.  5. -1.]\n",
            " [ 1.  5.  6.]\n",
            " [ 2.  3.  8.]], shape=(4, 3), dtype=float32)\n",
            "-------------to sum all---------------\n",
            "tf.Tensor(35.0, shape=(), dtype=float32)\n",
            "------------\n",
            "To reduce the tensor to the higest value----------------\n",
            "tf.Tensor(8.0, shape=(), dtype=float32)\n",
            "--------------\n",
            "To reduce the tensor to the lowest value--------------\n",
            "tf.Tensor(-1.0, shape=(), dtype=float32)\n"
          ]
        }
      ]
    },
    {
      "cell_type": "code",
      "source": [],
      "metadata": {
        "id": "6QBWJUfeoSZp"
      },
      "execution_count": null,
      "outputs": []
    }
  ]
}