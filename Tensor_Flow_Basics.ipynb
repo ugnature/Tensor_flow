{
  "nbformat": 4,
  "nbformat_minor": 0,
  "metadata": {
    "colab": {
      "provenance": [],
      "authorship_tag": "ABX9TyOtzpCBF7o5sDlqd7qnrPL+",
      "include_colab_link": true
    },
    "kernelspec": {
      "name": "python3",
      "display_name": "Python 3"
    },
    "language_info": {
      "name": "python"
    }
  },
  "cells": [
    {
      "cell_type": "markdown",
      "metadata": {
        "id": "view-in-github",
        "colab_type": "text"
      },
      "source": [
        "<a href=\"https://colab.research.google.com/github/ugnature/Tensor_flow/blob/main/Tensor_Flow_Basics.ipynb\" target=\"_parent\"><img src=\"https://colab.research.google.com/assets/colab-badge.svg\" alt=\"Open In Colab\"/></a>"
      ]
    },
    {
      "cell_type": "markdown",
      "source": [
        "# Tensors"
      ],
      "metadata": {
        "id": "I85zmyz-2R59"
      }
    },
    {
      "cell_type": "markdown",
      "source": [
        "### Tensors are Multi Dimentional Arrays\n",
        "\n",
        "* An array is an *ordered arrangement of numbers*"
      ],
      "metadata": {
        "id": "Jm4Lqioa2WNQ"
      }
    },
    {
      "cell_type": "code",
      "source": [
        "import tensorflow as tf"
      ],
      "metadata": {
        "id": "hPAZwWcL2WJX"
      },
      "execution_count": 11,
      "outputs": []
    },
    {
      "cell_type": "code",
      "source": [
        "# Create our first zero dimenstion tensor which contain only one element in a tensor\n",
        "tensor_zero_d = tf.constant(2)\n",
        "print(tensor_zero_d)"
      ],
      "metadata": {
        "colab": {
          "base_uri": "https://localhost:8080/"
        },
        "id": "oCkmCzai2WG1",
        "outputId": "ca092b8e-99bb-4bdb-ba1d-7373f8cd30ab"
      },
      "execution_count": 12,
      "outputs": [
        {
          "output_type": "stream",
          "name": "stdout",
          "text": [
            "tf.Tensor(2, shape=(), dtype=int32)\n"
          ]
        }
      ]
    },
    {
      "cell_type": "code",
      "source": [
        "# Create our first one dimention tensor\n",
        "tensor_one_d = tf.constant([2, 0, -3, 9, 10, 123])\n",
        "print(tensor_one_d)"
      ],
      "metadata": {
        "colab": {
          "base_uri": "https://localhost:8080/"
        },
        "id": "MMtglo8j2WEO",
        "outputId": "b2e42cba-18dc-4516-b98c-d1f2326d7d1b"
      },
      "execution_count": 16,
      "outputs": [
        {
          "output_type": "stream",
          "name": "stdout",
          "text": [
            "tf.Tensor([  2   0  -3   9  10 123], shape=(6,), dtype=int32)\n"
          ]
        }
      ]
    },
    {
      "cell_type": "code",
      "source": [
        "# Create our first two dimension tensor\n",
        "tensor_two_d = tf.constant([\n",
        "                            [1, 2, 0],\n",
        "                            [3, 5, -1],\n",
        "                            [1, 5, 6],\n",
        "                            [2, 3, 8]])\n",
        "print(tensor_two_d)"
      ],
      "metadata": {
        "colab": {
          "base_uri": "https://localhost:8080/"
        },
        "id": "aUVxuaeF2WCd",
        "outputId": "47eed0b1-9637-46c1-f567-9293969447b1"
      },
      "execution_count": 19,
      "outputs": [
        {
          "output_type": "stream",
          "name": "stdout",
          "text": [
            "tf.Tensor(\n",
            "[[ 1  2  0]\n",
            " [ 3  5 -1]\n",
            " [ 1  5  6]\n",
            " [ 2  3  8]], shape=(4, 3), dtype=int32)\n"
          ]
        }
      ]
    },
    {
      "cell_type": "code",
      "source": [
        "# Create our first 3d tensor\n",
        "tensor_three_d = tf.constant(\n",
        "                            [[[1, 2, 0],\n",
        "                             [3, 5, -1]],\n",
        "\n",
        "                            [[10, 2, 0],\n",
        "                             [1, 0, 2]],\n",
        "\n",
        "                            [[5, 8, 0],\n",
        "                             [2, 7, 0]],\n",
        "\n",
        "                            [[2, 1, 9],\n",
        "                             [4, -3, 32]]]\n",
        ")\n",
        "print(tensor_three_d)\n",
        "print(\"------------------------\")\n",
        "print(f\"tensor shape: {tensor_three_d.shape}\")\n",
        "print(f\"tensor dimension: {tensor_three_d.ndim}d\")"
      ],
      "metadata": {
        "colab": {
          "base_uri": "https://localhost:8080/"
        },
        "id": "bAIIZSmnDPmo",
        "outputId": "8572d041-fa5e-4611-ffcb-5891e5d46213"
      },
      "execution_count": 26,
      "outputs": [
        {
          "output_type": "stream",
          "name": "stdout",
          "text": [
            "tf.Tensor(\n",
            "[[[ 1  2  0]\n",
            "  [ 3  5 -1]]\n",
            "\n",
            " [[10  2  0]\n",
            "  [ 1  0  2]]\n",
            "\n",
            " [[ 5  8  0]\n",
            "  [ 2  7  0]]\n",
            "\n",
            " [[ 2  1  9]\n",
            "  [ 4 -3 32]]], shape=(4, 2, 3), dtype=int32)\n",
            "------------------------\n",
            "tensor shape: (4, 2, 3)\n",
            "tensor dimension: 3d\n"
          ]
        }
      ]
    },
    {
      "cell_type": "code",
      "source": [
        "# Create our first four dimension tensor\n",
        "tensor_four_d = tf.constant(\n",
        "                            [[[[1, 2, 0],\n",
        "                             [3, 5, -1]],\n",
        "\n",
        "                             [[10, 2, 0],\n",
        "                             [1, 0, 2]],\n",
        "\n",
        "                             [[5, 8, 0],\n",
        "                             [2, 7, 0]],\n",
        "\n",
        "                             [[2, 1, 9],\n",
        "                             [4, -3, 32]]],\n",
        "                             \n",
        "                                           [[[4, 5, 4],\n",
        "                                             [3, 1, 1]],\n",
        "                             \n",
        "                                             [[0, 2, 5],\n",
        "                                              [0, 4, 3]],\n",
        "                             \n",
        "                                             [[3, 2, 4],\n",
        "                                              [5, 8 ,3]],\n",
        "                             \n",
        "                                             [[8, 2, 5],\n",
        "                                              [2, 3, 3]]],\n",
        "                                                          [[[0, 2, 4],\n",
        "                                                            [5, 3, 1]],\n",
        "                                                           \n",
        "                                                           [[0, 2, 0],\n",
        "                                                            [-1, 10, 0]],\n",
        "                                                           \n",
        "                                                           [[0, 5, 1],\n",
        "                                                            [1, 7, 0]],\n",
        "                                                           \n",
        "                                                           [[3, 8, 7],\n",
        "                                                            [2, 3, 2]]]])\n",
        "print(tensor_four_d)\n",
        "print(\"------------------------\")\n",
        "print(f\"tensor shape: {tensor_four_d.shape}\")\n",
        "print(f\"tensor dimension: {tensor_four_d.ndim}d\")"
      ],
      "metadata": {
        "colab": {
          "base_uri": "https://localhost:8080/"
        },
        "id": "H1WIjhLODPi0",
        "outputId": "5aa546d1-141b-4b82-9c94-84dbb0d96d09"
      },
      "execution_count": 28,
      "outputs": [
        {
          "output_type": "stream",
          "name": "stdout",
          "text": [
            "tf.Tensor(\n",
            "[[[[ 1  2  0]\n",
            "   [ 3  5 -1]]\n",
            "\n",
            "  [[10  2  0]\n",
            "   [ 1  0  2]]\n",
            "\n",
            "  [[ 5  8  0]\n",
            "   [ 2  7  0]]\n",
            "\n",
            "  [[ 2  1  9]\n",
            "   [ 4 -3 32]]]\n",
            "\n",
            "\n",
            " [[[ 4  5  4]\n",
            "   [ 3  1  1]]\n",
            "\n",
            "  [[ 0  2  5]\n",
            "   [ 0  4  3]]\n",
            "\n",
            "  [[ 3  2  4]\n",
            "   [ 5  8  3]]\n",
            "\n",
            "  [[ 8  2  5]\n",
            "   [ 2  3  3]]]\n",
            "\n",
            "\n",
            " [[[ 0  2  4]\n",
            "   [ 5  3  1]]\n",
            "\n",
            "  [[ 0  2  0]\n",
            "   [-1 10  0]]\n",
            "\n",
            "  [[ 0  5  1]\n",
            "   [ 1  7  0]]\n",
            "\n",
            "  [[ 3  8  7]\n",
            "   [ 2  3  2]]]], shape=(3, 4, 2, 3), dtype=int32)\n",
            "------------------------\n",
            "tensor shape: (3, 4, 2, 3)\n",
            "tensor dimension: 4d\n"
          ]
        }
      ]
    },
    {
      "cell_type": "code",
      "source": [],
      "metadata": {
        "id": "QKqYEzI6DPf1"
      },
      "execution_count": null,
      "outputs": []
    },
    {
      "cell_type": "code",
      "source": [],
      "metadata": {
        "id": "halExVR3DPdJ"
      },
      "execution_count": null,
      "outputs": []
    },
    {
      "cell_type": "code",
      "source": [],
      "metadata": {
        "id": "VBN4VSP2DPbJ"
      },
      "execution_count": null,
      "outputs": []
    }
  ]
}